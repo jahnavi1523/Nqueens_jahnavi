{
  "nbformat": 4,
  "nbformat_minor": 0,
  "metadata": {
    "colab": {
      "provenance": [],
      "authorship_tag": "ABX9TyNAaTwACVUronApCAiFWy0g",
      "include_colab_link": true
    },
    "kernelspec": {
      "name": "python3",
      "display_name": "Python 3"
    },
    "language_info": {
      "name": "python"
    }
  },
  "cells": [
    {
      "cell_type": "markdown",
      "metadata": {
        "id": "view-in-github",
        "colab_type": "text"
      },
      "source": [
        "<a href=\"https://colab.research.google.com/github/jahnavi1523/Nqueens_jahnavi/blob/main/Jahnavi_Nagar_56_Nqueens.ipynb\" target=\"_parent\"><img src=\"https://colab.research.google.com/assets/colab-badge.svg\" alt=\"Open In Colab\"/></a>"
      ]
    },
    {
      "cell_type": "code",
      "execution_count": 4,
      "metadata": {
        "colab": {
          "base_uri": "https://localhost:8080/"
        },
        "id": "ddSQ-q5tiP68",
        "outputId": "b12fa625-fade-45fa-d1fb-2d3e9d62ae6d"
      },
      "outputs": [
        {
          "output_type": "stream",
          "name": "stdout",
          "text": [
            "Enter the value of N: 6\n",
            ". Q . . . .\n",
            ". . . Q . .\n",
            ". . . . . Q\n",
            "Q . . . . .\n",
            ". . Q . . .\n",
            ". . . . Q .\n",
            "\n",
            "\n",
            ". . Q . . .\n",
            ". . . . . Q\n",
            ". Q . . . .\n",
            ". . . . Q .\n",
            "Q . . . . .\n",
            ". . . Q . .\n",
            "\n",
            "\n",
            ". . . Q . .\n",
            "Q . . . . .\n",
            ". . . . Q .\n",
            ". Q . . . .\n",
            ". . . . . Q\n",
            ". . Q . . .\n",
            "\n",
            "\n",
            ". . . . Q .\n",
            ". . Q . . .\n",
            "Q . . . . .\n",
            ". . . . . Q\n",
            ". . . Q . .\n",
            ". Q . . . .\n",
            "\n",
            "\n"
          ]
        }
      ],
      "source": [
        "def print_solution(board):\n",
        "    for row in board:\n",
        "        print(\" \".join(\"Q\" if cell else \".\" for cell in row))\n",
        "    print(\"\\n\")\n",
        "\n",
        "def is_safe(board, row, col, n):\n",
        "    # Check vertical column\n",
        "    for i in range(row):\n",
        "        if board[i][col]:\n",
        "            return False\n",
        "\n",
        "    # Check upper-left diagonal\n",
        "    for i, j in zip(range(row, -1, -1), range(col, -1, -1)):\n",
        "        if board[i][j]:\n",
        "            return False\n",
        "\n",
        "    # Check upper-right diagonal\n",
        "    for i, j in zip(range(row, -1, -1), range(col, n)):\n",
        "        if board[i][j]:\n",
        "            return False\n",
        "\n",
        "    return True\n",
        "\n",
        "def solve_n_queens(board, row, n):\n",
        "    if row == n:\n",
        "        print_solution(board)\n",
        "        return True\n",
        "\n",
        "    res = False\n",
        "    for col in range(n):\n",
        "        if is_safe(board, row, col, n):\n",
        "            board[row][col] = True\n",
        "            res = solve_n_queens(board, row + 1, n) or res\n",
        "            board[row][col] = False  # Backtrack\n",
        "\n",
        "    return res\n",
        "\n",
        "def n_queens(n):\n",
        "    board = [[False for _ in range(n)] for _ in range(n)]\n",
        "    if not solve_n_queens(board, 0, n):\n",
        "        print(\"No solution exists\")\n",
        "\n",
        "# Example usage\n",
        "n = int(input(\"Enter the value of N: \"))\n",
        "n_queens(n)\n"
      ]
    }
  ]
}